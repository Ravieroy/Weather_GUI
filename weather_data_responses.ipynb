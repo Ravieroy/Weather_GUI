{
 "cells": [
  {
   "cell_type": "markdown",
   "id": "f81eb1e1",
   "metadata": {},
   "source": [
    "#### This notebook is a supplement to main GUI code. This contains mainly the responses and extracting neccessary information from the raw weather data. "
   ]
  },
  {
   "cell_type": "code",
   "execution_count": 2,
   "id": "6408dd4c",
   "metadata": {},
   "outputs": [],
   "source": [
    "#Importing neccessary modules\n",
    "from tkinter import *\n",
    "import requests"
   ]
  },
  {
   "cell_type": "code",
   "execution_count": 3,
   "id": "ffb4a557",
   "metadata": {},
   "outputs": [],
   "source": [
    "#api key: You can get your own free api key from openweathermap.org.\n",
    "\n",
    "api_key=\"32e7b591865fddfdd0eb143b98d44c4c\" #Put your api key here\n",
    "units=\"metric\" # metric: Celsius, imperial: Fahrenheit and default is kelvin\n",
    "city=\"Kharagpur\" # put your desired city here\n",
    "pincode=\"721302\" # use pincode for non ambiguous result\n",
    "\n",
    "# This is the url. Look for documentation on the website openweathermap.org. \n",
    "url=\"http://api.openweathermap.org/data/2.5/weather?q={},{}&appid={}&units={}\".format(city,pincode,api_key,units)\n",
    "res=requests.get(url)\n",
    "output=res.json() #stores data in json format"
   ]
  },
  {
   "cell_type": "code",
   "execution_count": 4,
   "id": "284b31f8",
   "metadata": {},
   "outputs": [
    {
     "data": {
      "text/plain": [
       "200"
      ]
     },
     "execution_count": 4,
     "metadata": {},
     "output_type": "execute_result"
    }
   ],
   "source": [
    "res.status_code # status code. try: except block should take care of this response in the main code"
   ]
  },
  {
   "cell_type": "code",
   "execution_count": 5,
   "id": "f358e5b6",
   "metadata": {},
   "outputs": [
    {
     "data": {
      "text/plain": [
       "{'coord': {'lon': 87.3333, 'lat': 22.3333},\n",
       " 'weather': [{'id': 802,\n",
       "   'main': 'Clouds',\n",
       "   'description': 'scattered clouds',\n",
       "   'icon': '03d'}],\n",
       " 'base': 'stations',\n",
       " 'main': {'temp': 28.69,\n",
       "  'feels_like': 28.38,\n",
       "  'temp_min': 28.69,\n",
       "  'temp_max': 28.69,\n",
       "  'pressure': 1010,\n",
       "  'humidity': 41,\n",
       "  'sea_level': 1010,\n",
       "  'grnd_level': 1005},\n",
       " 'visibility': 10000,\n",
       " 'wind': {'speed': 3.22, 'deg': 352, 'gust': 3.62},\n",
       " 'clouds': {'all': 40},\n",
       " 'dt': 1636529872,\n",
       " 'sys': {'country': 'IN', 'sunrise': 1636503596, 'sunset': 1636543759},\n",
       " 'timezone': 19800,\n",
       " 'id': 1266976,\n",
       " 'name': 'Kharagpur',\n",
       " 'cod': 200}"
      ]
     },
     "execution_count": 5,
     "metadata": {},
     "output_type": "execute_result"
    }
   ],
   "source": [
    "output # raw output"
   ]
  },
  {
   "cell_type": "code",
   "execution_count": 6,
   "id": "5fd340db",
   "metadata": {},
   "outputs": [
    {
     "data": {
      "text/plain": [
       "'scattered clouds'"
      ]
     },
     "execution_count": 6,
     "metadata": {},
     "output_type": "execute_result"
    }
   ],
   "source": [
    "output['weather'][0]['description'] ##Because weather is a list"
   ]
  },
  {
   "cell_type": "code",
   "execution_count": 9,
   "id": "ef45b70f",
   "metadata": {},
   "outputs": [
    {
     "data": {
      "text/plain": [
       "'Kharagpur'"
      ]
     },
     "execution_count": 9,
     "metadata": {},
     "output_type": "execute_result"
    }
   ],
   "source": [
    "output['name']"
   ]
  },
  {
   "cell_type": "code",
   "execution_count": 7,
   "id": "e64b1608",
   "metadata": {},
   "outputs": [
    {
     "data": {
      "text/plain": [
       "87.3333"
      ]
     },
     "execution_count": 7,
     "metadata": {},
     "output_type": "execute_result"
    }
   ],
   "source": [
    "lon = output['coord']['lon'] #longitude\n",
    "lon"
   ]
  },
  {
   "cell_type": "code",
   "execution_count": 8,
   "id": "8e5c4b3d",
   "metadata": {},
   "outputs": [
    {
     "data": {
      "text/plain": [
       "22.3333"
      ]
     },
     "execution_count": 8,
     "metadata": {},
     "output_type": "execute_result"
    }
   ],
   "source": [
    "lat = output['coord']['lat'] # latitude\n",
    "lat"
   ]
  },
  {
   "cell_type": "code",
   "execution_count": 10,
   "id": "9cf8ae29",
   "metadata": {},
   "outputs": [],
   "source": [
    "#this is for air quality index from the same website\n",
    "\n",
    "api_key=\"32e7b591865fddfdd0eb143b98d44c4c\"\n",
    "\n",
    "api_url=f\"http://api.openweathermap.org/data/2.5/air_pollution?lat={lat}&lon={lon}&appid={api_key}\"\n",
    "res_2=requests.get(api_url)\n",
    "output_2=res_2.json()"
   ]
  },
  {
   "cell_type": "code",
   "execution_count": 42,
   "id": "feada0de",
   "metadata": {},
   "outputs": [
    {
     "data": {
      "text/plain": [
       "{'coord': {'lon': 87.3333, 'lat': 22.3333},\n",
       " 'list': [{'main': {'aqi': 5},\n",
       "   'components': {'co': 1628.88,\n",
       "    'no': 0.46,\n",
       "    'no2': 22.62,\n",
       "    'o3': 5.23,\n",
       "    'so2': 4.35,\n",
       "    'pm2_5': 293.16,\n",
       "    'pm10': 327.36,\n",
       "    'nh3': 12.92},\n",
       "   'dt': 1636488000}]}"
      ]
     },
     "execution_count": 42,
     "metadata": {},
     "output_type": "execute_result"
    }
   ],
   "source": [
    "output_2"
   ]
  },
  {
   "cell_type": "code",
   "execution_count": 43,
   "id": "da59e81c",
   "metadata": {},
   "outputs": [
    {
     "data": {
      "text/plain": [
       "5"
      ]
     },
     "execution_count": 43,
     "metadata": {},
     "output_type": "execute_result"
    }
   ],
   "source": [
    "aqi=output_2['list'][0]['main']['aqi']\n",
    "aqi"
   ]
  },
  {
   "cell_type": "code",
   "execution_count": 44,
   "id": "48911168",
   "metadata": {},
   "outputs": [
    {
     "data": {
      "text/plain": [
       "{'co': 1628.88,\n",
       " 'no': 0.46,\n",
       " 'no2': 22.62,\n",
       " 'o3': 5.23,\n",
       " 'so2': 4.35,\n",
       " 'pm2_5': 293.16,\n",
       " 'pm10': 327.36,\n",
       " 'nh3': 12.92}"
      ]
     },
     "execution_count": 44,
     "metadata": {},
     "output_type": "execute_result"
    }
   ],
   "source": [
    "output_2['list'][0]['components'] # The main code doesn't return these values but they can be implemented."
   ]
  },
  {
   "cell_type": "code",
   "execution_count": null,
   "id": "f7513034",
   "metadata": {},
   "outputs": [],
   "source": []
  }
 ],
 "metadata": {
  "kernelspec": {
   "display_name": "Python 3",
   "language": "python",
   "name": "python3"
  },
  "language_info": {
   "codemirror_mode": {
    "name": "ipython",
    "version": 3
   },
   "file_extension": ".py",
   "mimetype": "text/x-python",
   "name": "python",
   "nbconvert_exporter": "python",
   "pygments_lexer": "ipython3",
   "version": "3.8.10"
  }
 },
 "nbformat": 4,
 "nbformat_minor": 5
}
